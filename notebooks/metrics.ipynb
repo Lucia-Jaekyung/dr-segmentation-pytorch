{
 "cells": [
  {
   "cell_type": "code",
   "execution_count": null,
   "metadata": {},
   "outputs": [],
   "source": [
    "import os\n",
    "import random\n",
    "import numpy as np\n",
    "\n",
    "import math\n",
    "import torch\n",
    "import torch.nn as nn\n",
    "import torch.nn.functional as F\n",
    "import torch.utils.model_zoo as model_zoo\n",
    "\n",
    "from xception import Xception"
   ]
  },
  {
   "cell_type": "markdown",
   "metadata": {},
   "source": [
    "# Dice similarity coefficient"
   ]
  },
  {
   "cell_type": "code",
   "execution_count": null,
   "metadata": {},
   "outputs": [],
   "source": [
    "def dice_coefficient(prediction, target, epsilon=1e-7):\n",
    "    \"\"\"\n",
    "    Compute Dice similarity coefficient.\n",
    "\n",
    "    Args:\n",
    "        prediction (torch.Tensor): 모델의 예측값 (0 또는 1의 이진 값)\n",
    "        target (torch.Tensor): 실제 타겟 값 (0 또는 1의 이진 값)\n",
    "        epsilon (float): 분모가 0이 되는 것을 방지하기 위한 작은 값\n",
    "\n",
    "    Returns:\n",
    "        float: Dice similarity coefficient\n",
    "    \"\"\"\n",
    "    intersection = torch.sum(prediction * target)\n",
    "    union = torch.sum(prediction) + torch.sum(target)\n",
    "    dice_score = (2. * intersection + epsilon) / (union + epsilon)\n",
    "    return dice_score.item()\n",
    "\n",
    "# 예제를 위한 가짜 데이터 생성\n",
    "prediction = torch.tensor([[0, 1, 1],\n",
    "                           [1, 1, 0],\n",
    "                           [0, 1, 0]], dtype=torch.float32)\n",
    "target = torch.tensor([[1, 1, 0],\n",
    "                       [1, 0, 0],\n",
    "                       [0, 1, 1]], dtype=torch.float32)\n",
    "\n",
    "# Dice similarity coefficient 계산\n",
    "dice_score = dice_coefficient(prediction, target)\n",
    "print(\"Dice similarity coefficient:\", dice_score)\n"
   ]
  },
  {
   "cell_type": "markdown",
   "metadata": {},
   "source": [
    "# dice loss"
   ]
  },
  {
   "cell_type": "code",
   "execution_count": null,
   "metadata": {},
   "outputs": [],
   "source": [
    "def dice_loss(prediction, target, epsilon=1e-7):\n",
    "    \"\"\"\n",
    "    Compute Dice Loss.\n",
    "\n",
    "    Args:\n",
    "        prediction (torch.Tensor): 모델의 예측값 (확률값)\n",
    "        target (torch.Tensor): 실제 타겟 값 (0 또는 1의 이진 값)\n",
    "        epsilon (float): 분모가 0이 되는 것을 방지하기 위한 작은 값\n",
    "\n",
    "    Returns:\n",
    "        torch.Tensor: Dice Loss\n",
    "    \"\"\"\n",
    "    intersection = torch.sum(prediction * target)\n",
    "    union = torch.sum(prediction) + torch.sum(target)\n",
    "    dice_score = (2. * intersection + epsilon) / (union + epsilon)\n",
    "    dice_loss = 1 - dice_score\n",
    "    return dice_loss\n",
    "\n",
    "# 예제를 위한 가짜 데이터 생성\n",
    "prediction = torch.tensor([[0.8, 0.7, 0.6],\n",
    "                           [0.3, 0.4, 0.5],\n",
    "                           [0.2, 0.9, 0.1]], dtype=torch.float32)\n",
    "target = torch.tensor([[1, 1, 0],\n",
    "                       [1, 0, 0],\n",
    "                       [0, 1, 1]], dtype=torch.float32)\n",
    "\n",
    "# Dice Loss 계산\n",
    "loss = dice_loss(prediction, target)\n",
    "print(\"Dice Loss:\", loss.item())\n"
   ]
  }
 ],
 "metadata": {
  "language_info": {
   "name": "python"
  }
 },
 "nbformat": 4,
 "nbformat_minor": 2
}
