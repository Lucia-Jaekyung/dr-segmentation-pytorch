{
 "cells": [
  {
   "cell_type": "code",
   "execution_count": 44,
   "metadata": {},
   "outputs": [],
   "source": [
    "import os\n",
    "import sys\n",
    "import shutil\n",
    "import cv2\n",
    "import numpy as np\n",
    "import matplotlib.pyplot as plt\n",
    "from PIL import Image\n",
    "from tqdm import tqdm"
   ]
  },
  {
   "cell_type": "code",
   "execution_count": 5,
   "metadata": {},
   "outputs": [
    {
     "data": {
      "text/plain": [
       "<matplotlib.image.AxesImage at 0x12fab7640>"
      ]
     },
     "execution_count": 5,
     "metadata": {},
     "output_type": "execute_result"
    },
    {
     "data": {
      "image/png": "[encoded data removed]",
      "text/plain": [
       "<Figure size 640x480 with 1 Axes>"
      ]
     },
     "metadata": {},
     "output_type": "display_data"
    }
   ],
   "source": [
    "mask = cv2.imread('../data/A. Segmentation/2. All Segmentation Groundtruths/a. Training Set/1. Microaneurysms/IDRiD_01_MA.tif', cv2.IMREAD_GRAYSCALE)\n",
    "plt.imshow(mask, cmap='gray')"
   ]
  },
  {
   "cell_type": "code",
   "execution_count": 7,
   "metadata": {},
   "outputs": [
    {
     "data": {
      "text/plain": [
       "array([ 0, 76], dtype=uint8)"
      ]
     },
     "execution_count": 7,
     "metadata": {},
     "output_type": "execute_result"
    }
   ],
   "source": [
    "np.unique(mask)"
   ]
  },
  {
   "cell_type": "markdown",
   "metadata": {},
   "source": [
    "# EyePACS crop black area"
   ]
  },
  {
   "cell_type": "code",
   "execution_count": 17,
   "metadata": {},
   "outputs": [],
   "source": [
    "def saturate_contrast(p, num):\n",
    "    pic = p.copy()\n",
    "    pic = pic.astype(\"int64\")\n",
    "    pic = np.clip(pic + (pic - 10) * num, 0, 255)\n",
    "    pic = pic.astype(\"uint8\")\n",
    "    return pic\n",
    "\n",
    "def image_crop(image_path):\n",
    "    try:\n",
    "        img = cv2.imread(image_path)\n",
    "    except:\n",
    "        print(image_path)\n",
    "    img2 = cv2.cvtColor(img, cv2.COLOR_BGR2GRAY)\n",
    "    img2 = saturate_contrast(img2, 10)\n",
    "    img2 = cv2.medianBlur(img2, 5)\n",
    "    x, y, w, h = cv2.boundingRect(img2)\n",
    "    img = img[y : y + h, x : x + w]\n",
    "    return img"
   ]
  },
  {
   "cell_type": "code",
   "execution_count": 18,
   "metadata": {},
   "outputs": [
    {
     "name": "stderr",
     "output_type": "stream",
     "text": [
      "  0%|          | 0/8408 [00:00<?, ?it/s]"
     ]
    },
    {
     "name": "stderr",
     "output_type": "stream",
     "text": [
      "100%|█████████▉| 8407/8408 [13:01<00:00, 12.85it/s]Premature end of JPEG file\n",
      "100%|██████████| 8408/8408 [13:02<00:00, 10.75it/s]\n"
     ]
    }
   ],
   "source": [
    "img_list = sorted(os.listdir('../data/EyePACS/'))\n",
    "for img in tqdm(img_list):\n",
    "    if img == '.DS_Store':\n",
    "        continue\n",
    "    image = image_crop('../data/EyePACS/' + img)\n",
    "    cv2.imwrite('../data/EyePACS/' + img, image)"
   ]
  },
  {
   "cell_type": "markdown",
   "metadata": {},
   "source": [
    "# IDRiD"
   ]
  },
  {
   "cell_type": "markdown",
   "metadata": {},
   "source": [
    "## to 1 ~ 4"
   ]
  },
  {
   "cell_type": "code",
   "execution_count": 19,
   "metadata": {},
   "outputs": [],
   "source": [
    "micro_list = sorted(os.listdir('../data/IDRiD/train/1.Microaneurysms/'))\n",
    "hemo_list = sorted(os.listdir('../data/IDRiD/train/2.Hemorrhages/'))\n",
    "hard_list = sorted(os.listdir('../data/IDRiD/train/3.HardExudates/'))\n",
    "soft_list = sorted(os.listdir('../data/IDRiD/train/4.SoftExudates/'))\n",
    "\n",
    "for micro in micro_list:\n",
    "    if micro == '.DS_Store':\n",
    "        continue\n",
    "    image = cv2.imread('../data/IDRiD/train/1.Microaneurysms/' + micro, cv2.IMREAD_GRAYSCALE)\n",
    "    image = np.where(image > 0, 1, 0)\n",
    "    cv2.imwrite('../data/IDRiD/train/1.Microaneurysms/' + micro, image)\n",
    "\n",
    "for hemo in hemo_list:\n",
    "    if hemo == '.DS_Store':\n",
    "        continue\n",
    "    image = cv2.imread('../data/IDRiD/train/2.Hemorrhages/' + hemo, cv2.IMREAD_GRAYSCALE)\n",
    "    image = np.where(image > 0, 2, 0)\n",
    "    cv2.imwrite('../data/IDRiD/train/2.Hemorrhages/' + hemo, image)\n",
    "\n",
    "for hard in hard_list:\n",
    "    if hard == '.DS_Store':\n",
    "        continue\n",
    "    image = cv2.imread('../data/IDRiD/train/3.HardExudates/' + hard, cv2.IMREAD_GRAYSCALE)\n",
    "    image = np.where(image > 0, 3, 0)\n",
    "    cv2.imwrite('../data/IDRiD/train/3.HardExudates/' + hard, image)\n",
    "\n",
    "for soft in soft_list:\n",
    "    if soft == '.DS_Store':\n",
    "        continue\n",
    "    image = cv2.imread('../data/IDRiD/train/4.SoftExudates/' + soft, cv2.IMREAD_GRAYSCALE)\n",
    "    image = np.where(image > 0, 4, 0)\n",
    "    cv2.imwrite('../data/IDRiD/train/4.SoftExudates/' + soft, image)"
   ]
  },
  {
   "cell_type": "code",
   "execution_count": 27,
   "metadata": {},
   "outputs": [
    {
     "name": "stdout",
     "output_type": "stream",
     "text": [
      "[0 1]\n",
      "[0 2]\n",
      "[0 3]\n",
      "[0 4]\n"
     ]
    }
   ],
   "source": [
    "micro = cv2.imread('../data/IDRiD/train/1.Microaneurysms/IDRiD_54_MA.tif', cv2.IMREAD_UNCHANGED)\n",
    "print(np.unique(micro))\n",
    "hemo = cv2.imread('../data/IDRiD/train/2.Hemorrhages/IDRiD_54_HE.tif', cv2.IMREAD_UNCHANGED)\n",
    "print(np.unique(hemo))\n",
    "hard = cv2.imread('../data/IDRiD/train/3.HardExudates/IDRiD_54_EX.tif', cv2.IMREAD_UNCHANGED)\n",
    "print(np.unique(hard))\n",
    "soft = cv2.imread('../data/IDRiD/train/4.SoftExudates/IDRiD_54_SE.tif', cv2.IMREAD_UNCHANGED)\n",
    "print(np.unique(soft))"
   ]
  },
  {
   "cell_type": "code",
   "execution_count": 28,
   "metadata": {},
   "outputs": [],
   "source": [
    "micro_list = sorted(os.listdir('../data/IDRiD/test/1.Microaneurysms/'))\n",
    "hemo_list = sorted(os.listdir('../data/IDRiD/test/2.Hemorrhages/'))\n",
    "hard_list = sorted(os.listdir('../data/IDRiD/test/3.HardExudates/'))\n",
    "soft_list = sorted(os.listdir('../data/IDRiD/test/4.SoftExudates/'))\n",
    "\n",
    "for micro in micro_list:\n",
    "    if micro == '.DS_Store':\n",
    "        continue\n",
    "    image = cv2.imread('../data/IDRiD/test/1.Microaneurysms/' + micro, cv2.IMREAD_GRAYSCALE)\n",
    "    image = np.where(image > 0, 1, 0)\n",
    "    cv2.imwrite('../data/IDRiD/test/1.Microaneurysms/' + micro, image)\n",
    "\n",
    "for hemo in hemo_list:\n",
    "    if hemo == '.DS_Store':\n",
    "        continue\n",
    "    image = cv2.imread('../data/IDRiD/test/2.Hemorrhages/' + hemo, cv2.IMREAD_GRAYSCALE)\n",
    "    image = np.where(image > 0, 2, 0)\n",
    "    cv2.imwrite('../data/IDRiD/test/2.Hemorrhages/' + hemo, image)\n",
    "\n",
    "for hard in hard_list:\n",
    "    if hard == '.DS_Store':\n",
    "        continue\n",
    "    image = cv2.imread('../data/IDRiD/test/3.HardExudates/' + hard, cv2.IMREAD_GRAYSCALE)\n",
    "    image = np.where(image > 0, 3, 0)\n",
    "    cv2.imwrite('../data/IDRiD/test/3.HardExudates/' + hard, image)\n",
    "\n",
    "for soft in soft_list:\n",
    "    if soft == '.DS_Store':\n",
    "        continue\n",
    "    image = cv2.imread('../data/IDRiD/test/4.SoftExudates/' + soft, cv2.IMREAD_GRAYSCALE)\n",
    "    image = np.where(image > 0, 4, 0)\n",
    "    cv2.imwrite('../data/IDRiD/test/4.SoftExudates/' + soft, image)"
   ]
  },
  {
   "cell_type": "code",
   "execution_count": 30,
   "metadata": {},
   "outputs": [
    {
     "name": "stdout",
     "output_type": "stream",
     "text": [
      "[0 1]\n",
      "[0 2]\n",
      "[0 3]\n",
      "[0 4]\n"
     ]
    }
   ],
   "source": [
    "micro = cv2.imread('../data/IDRiD/test/1.Microaneurysms/IDRiD_55_MA.tif', cv2.IMREAD_UNCHANGED)\n",
    "print(np.unique(micro))\n",
    "hemo = cv2.imread('../data/IDRiD/test/2.Hemorrhages/IDRiD_55_HE.tif', cv2.IMREAD_UNCHANGED)\n",
    "print(np.unique(hemo))\n",
    "hard = cv2.imread('../data/IDRiD/test/3.HardExudates/IDRiD_55_EX.tif', cv2.IMREAD_UNCHANGED)\n",
    "print(np.unique(hard))\n",
    "soft = cv2.imread('../data/IDRiD/test/4.SoftExudates/IDRiD_55_SE.tif', cv2.IMREAD_UNCHANGED)\n",
    "print(np.unique(soft))"
   ]
  },
  {
   "cell_type": "markdown",
   "metadata": {},
   "source": [
    "## to OneMasks"
   ]
  },
  {
   "cell_type": "code",
   "execution_count": 42,
   "metadata": {},
   "outputs": [
    {
     "name": "stderr",
     "output_type": "stream",
     "text": [
      "[ WARN:0@7584.117] global loadsave.cpp:248 findDecoder imread_('../data/IDRiD/train/4.SoftExudates/IDRiD_01_SE.tif'): can't open/read file: check file path/integrity\n",
      "[ WARN:0@7584.437] global loadsave.cpp:248 findDecoder imread_('../data/IDRiD/train/4.SoftExudates/IDRiD_02_SE.tif'): can't open/read file: check file path/integrity\n",
      "[ WARN:0@7585.172] global loadsave.cpp:248 findDecoder imread_('../data/IDRiD/train/4.SoftExudates/IDRiD_04_SE.tif'): can't open/read file: check file path/integrity\n",
      "[ WARN:0@7585.504] global loadsave.cpp:248 findDecoder imread_('../data/IDRiD/train/4.SoftExudates/IDRiD_05_SE.tif'): can't open/read file: check file path/integrity\n",
      "[ WARN:0@7585.827] global loadsave.cpp:248 findDecoder imread_('../data/IDRiD/train/4.SoftExudates/IDRiD_06_SE.tif'): can't open/read file: check file path/integrity\n",
      "[ WARN:0@7586.142] global loadsave.cpp:248 findDecoder imread_('../data/IDRiD/train/4.SoftExudates/IDRiD_07_SE.tif'): can't open/read file: check file path/integrity\n",
      "[ WARN:0@7586.871] global loadsave.cpp:248 findDecoder imread_('../data/IDRiD/train/4.SoftExudates/IDRiD_09_SE.tif'): can't open/read file: check file path/integrity\n",
      "[ WARN:0@7587.184] global loadsave.cpp:248 findDecoder imread_('../data/IDRiD/train/4.SoftExudates/IDRiD_10_SE.tif'): can't open/read file: check file path/integrity\n",
      "[ WARN:0@7587.498] global loadsave.cpp:248 findDecoder imread_('../data/IDRiD/train/4.SoftExudates/IDRiD_11_SE.tif'): can't open/read file: check file path/integrity\n",
      "[ WARN:0@7587.822] global loadsave.cpp:248 findDecoder imread_('../data/IDRiD/train/4.SoftExudates/IDRiD_12_SE.tif'): can't open/read file: check file path/integrity\n",
      "[ WARN:0@7589.091] global loadsave.cpp:248 findDecoder imread_('../data/IDRiD/train/4.SoftExudates/IDRiD_15_SE.tif'): can't open/read file: check file path/integrity\n",
      "[ WARN:0@7589.408] global loadsave.cpp:248 findDecoder imread_('../data/IDRiD/train/4.SoftExudates/IDRiD_16_SE.tif'): can't open/read file: check file path/integrity\n",
      "[ WARN:0@7590.972] global loadsave.cpp:248 findDecoder imread_('../data/IDRiD/train/4.SoftExudates/IDRiD_20_SE.tif'): can't open/read file: check file path/integrity\n",
      "[ WARN:0@7591.285] global loadsave.cpp:248 findDecoder imread_('../data/IDRiD/train/4.SoftExudates/IDRiD_21_SE.tif'): can't open/read file: check file path/integrity\n",
      "[ WARN:0@7592.444] global loadsave.cpp:248 findDecoder imread_('../data/IDRiD/train/4.SoftExudates/IDRiD_24_SE.tif'): can't open/read file: check file path/integrity\n",
      "[ WARN:0@7593.168] global loadsave.cpp:248 findDecoder imread_('../data/IDRiD/train/4.SoftExudates/IDRiD_26_SE.tif'): can't open/read file: check file path/integrity\n",
      "[ WARN:0@7593.487] global loadsave.cpp:248 findDecoder imread_('../data/IDRiD/train/4.SoftExudates/IDRiD_27_SE.tif'): can't open/read file: check file path/integrity\n",
      "[ WARN:0@7593.807] global loadsave.cpp:248 findDecoder imread_('../data/IDRiD/train/4.SoftExudates/IDRiD_28_SE.tif'): can't open/read file: check file path/integrity\n",
      "[ WARN:0@7594.132] global loadsave.cpp:248 findDecoder imread_('../data/IDRiD/train/4.SoftExudates/IDRiD_29_SE.tif'): can't open/read file: check file path/integrity\n",
      "[ WARN:0@7596.211] global loadsave.cpp:248 findDecoder imread_('../data/IDRiD/train/4.SoftExudates/IDRiD_34_SE.tif'): can't open/read file: check file path/integrity\n",
      "[ WARN:0@7596.948] global loadsave.cpp:248 findDecoder imread_('../data/IDRiD/train/4.SoftExudates/IDRiD_36_SE.tif'): can't open/read file: check file path/integrity\n",
      "[ WARN:0@7597.266] global loadsave.cpp:248 findDecoder imread_('../data/IDRiD/train/4.SoftExudates/IDRiD_37_SE.tif'): can't open/read file: check file path/integrity\n",
      "[ WARN:0@7598.415] global loadsave.cpp:248 findDecoder imread_('../data/IDRiD/train/4.SoftExudates/IDRiD_40_SE.tif'): can't open/read file: check file path/integrity\n",
      "[ WARN:0@7598.735] global loadsave.cpp:248 findDecoder imread_('../data/IDRiD/train/4.SoftExudates/IDRiD_41_SE.tif'): can't open/read file: check file path/integrity\n",
      "[ WARN:0@7599.056] global loadsave.cpp:248 findDecoder imread_('../data/IDRiD/train/4.SoftExudates/IDRiD_42_SE.tif'): can't open/read file: check file path/integrity\n",
      "[ WARN:0@7599.188] global loadsave.cpp:248 findDecoder imread_('../data/IDRiD/train/2.Hemorrhages/IDRiD_43_HE.tif'): can't open/read file: check file path/integrity\n",
      "[ WARN:0@7599.281] global loadsave.cpp:248 findDecoder imread_('../data/IDRiD/train/4.SoftExudates/IDRiD_43_SE.tif'): can't open/read file: check file path/integrity\n",
      "[ WARN:0@7599.598] global loadsave.cpp:248 findDecoder imread_('../data/IDRiD/train/4.SoftExudates/IDRiD_44_SE.tif'): can't open/read file: check file path/integrity\n",
      "[ WARN:0@7599.918] global loadsave.cpp:248 findDecoder imread_('../data/IDRiD/train/4.SoftExudates/IDRiD_45_SE.tif'): can't open/read file: check file path/integrity\n"
     ]
    }
   ],
   "source": [
    "img_list = sorted(os.listdir('../data/IDRiD/train/Original_Images/'))\n",
    "\n",
    "for img in img_list:\n",
    "    if img == '.DS_Store':\n",
    "        continue\n",
    "    name = img.split('.')[0]\n",
    "    img_shape = cv2.imread('../data/IDRiD/train/Original_Images/' + img, cv2.IMREAD_GRAYSCALE).shape\n",
    "    mask = np.zeros(img_shape, dtype=np.uint8)\n",
    "    micro = cv2.imread(f'../data/IDRiD/train/1.Microaneurysms/{name}_MA.tif', cv2.IMREAD_UNCHANGED)\n",
    "    hemo = cv2.imread(f'../data/IDRiD/train/2.Hemorrhages/{name}_HE.tif', cv2.IMREAD_UNCHANGED)\n",
    "    hard = cv2.imread(f'../data/IDRiD/train/3.HardExudates/{name}_EX.tif', cv2.IMREAD_UNCHANGED)\n",
    "    soft = cv2.imread(f'../data/IDRiD/train/4.SoftExudates/{name}_SE.tif', cv2.IMREAD_UNCHANGED)\n",
    "\n",
    "    if micro is not None:\n",
    "        micro = micro.astype(np.uint8)\n",
    "        mask = cv2.add(mask, micro)\n",
    "    if hemo is not None:\n",
    "        hemo = hemo.astype(np.uint8)\n",
    "        mask = cv2.add(mask, hemo)\n",
    "    if hard is not None:\n",
    "        hard = hard.astype(np.uint8)\n",
    "        mask = cv2.add(mask, hard)\n",
    "    if soft is not None:\n",
    "        soft = soft.astype(np.uint8)\n",
    "        mask = cv2.add(mask, soft)\n",
    "\n",
    "    cv2.imwrite(f'../data/IDRiD/train/0.OneMasks/{name}_mask.png', mask)"
   ]
  },
  {
   "cell_type": "code",
   "execution_count": 43,
   "metadata": {},
   "outputs": [
    {
     "name": "stderr",
     "output_type": "stream",
     "text": [
      "[ WARN:0@7645.046] global loadsave.cpp:248 findDecoder imread_('../data/IDRiD/test/4.SoftExudates/IDRiD_57_SE.tif'): can't open/read file: check file path/integrity\n",
      "[ WARN:0@7645.368] global loadsave.cpp:248 findDecoder imread_('../data/IDRiD/test/4.SoftExudates/IDRiD_58_SE.tif'): can't open/read file: check file path/integrity\n",
      "[ WARN:0@7646.930] global loadsave.cpp:248 findDecoder imread_('../data/IDRiD/test/4.SoftExudates/IDRiD_62_SE.tif'): can't open/read file: check file path/integrity\n",
      "[ WARN:0@7647.254] global loadsave.cpp:248 findDecoder imread_('../data/IDRiD/test/4.SoftExudates/IDRiD_63_SE.tif'): can't open/read file: check file path/integrity\n",
      "[ WARN:0@7647.994] global loadsave.cpp:248 findDecoder imread_('../data/IDRiD/test/4.SoftExudates/IDRiD_65_SE.tif'): can't open/read file: check file path/integrity\n",
      "[ WARN:0@7648.306] global loadsave.cpp:248 findDecoder imread_('../data/IDRiD/test/4.SoftExudates/IDRiD_66_SE.tif'): can't open/read file: check file path/integrity\n",
      "[ WARN:0@7649.451] global loadsave.cpp:248 findDecoder imread_('../data/IDRiD/test/4.SoftExudates/IDRiD_69_SE.tif'): can't open/read file: check file path/integrity\n",
      "[ WARN:0@7652.383] global loadsave.cpp:248 findDecoder imread_('../data/IDRiD/test/4.SoftExudates/IDRiD_76_SE.tif'): can't open/read file: check file path/integrity\n",
      "[ WARN:0@7652.701] global loadsave.cpp:248 findDecoder imread_('../data/IDRiD/test/4.SoftExudates/IDRiD_77_SE.tif'): can't open/read file: check file path/integrity\n",
      "[ WARN:0@7653.042] global loadsave.cpp:248 findDecoder imread_('../data/IDRiD/test/4.SoftExudates/IDRiD_78_SE.tif'): can't open/read file: check file path/integrity\n",
      "[ WARN:0@7653.387] global loadsave.cpp:248 findDecoder imread_('../data/IDRiD/test/4.SoftExudates/IDRiD_79_SE.tif'): can't open/read file: check file path/integrity\n",
      "[ WARN:0@7653.716] global loadsave.cpp:248 findDecoder imread_('../data/IDRiD/test/4.SoftExudates/IDRiD_80_SE.tif'): can't open/read file: check file path/integrity\n",
      "[ WARN:0@7654.033] global loadsave.cpp:248 findDecoder imread_('../data/IDRiD/test/4.SoftExudates/IDRiD_81_SE.tif'): can't open/read file: check file path/integrity\n"
     ]
    }
   ],
   "source": [
    "img_list = sorted(os.listdir('../data/IDRiD/test/Original_Images/'))\n",
    "\n",
    "for img in img_list:\n",
    "    if img == '.DS_Store':\n",
    "        continue\n",
    "    name = img.split('.')[0]\n",
    "    img_shape = cv2.imread('../data/IDRiD/test/Original_Images/' + img, cv2.IMREAD_GRAYSCALE).shape\n",
    "    mask = np.zeros(img_shape, dtype=np.uint8)\n",
    "    micro = cv2.imread(f'../data/IDRiD/test/1.Microaneurysms/{name}_MA.tif', cv2.IMREAD_UNCHANGED)\n",
    "    hemo = cv2.imread(f'../data/IDRiD/test/2.Hemorrhages/{name}_HE.tif', cv2.IMREAD_UNCHANGED)\n",
    "    hard = cv2.imread(f'../data/IDRiD/test/3.HardExudates/{name}_EX.tif', cv2.IMREAD_UNCHANGED)\n",
    "    soft = cv2.imread(f'../data/IDRiD/test/4.SoftExudates/{name}_SE.tif', cv2.IMREAD_UNCHANGED)\n",
    "\n",
    "    if micro is not None:\n",
    "        micro = micro.astype(np.uint8)\n",
    "        mask = cv2.add(mask, micro)\n",
    "    if hemo is not None:\n",
    "        hemo = hemo.astype(np.uint8)\n",
    "        mask = cv2.add(mask, hemo)\n",
    "    if hard is not None:\n",
    "        hard = hard.astype(np.uint8)\n",
    "        mask = cv2.add(mask, hard)\n",
    "    if soft is not None:\n",
    "        soft = soft.astype(np.uint8)\n",
    "        mask = cv2.add(mask, soft)\n",
    "\n",
    "    cv2.imwrite(f'../data/IDRiD/test/0.OneMasks/{name}_mask.png', mask)"
   ]
  },
  {
   "cell_type": "markdown",
   "metadata": {},
   "source": [
    "# FGADR"
   ]
  },
  {
   "cell_type": "markdown",
   "metadata": {},
   "source": [
    "## to 1 ~ 4"
   ]
  },
  {
   "cell_type": "code",
   "execution_count": 45,
   "metadata": {},
   "outputs": [],
   "source": [
    "micro_list = sorted(os.listdir('../data/FGADR/1.Microaneurysms/'))\n",
    "hemo_list = sorted(os.listdir('../data/FGADR/2.Hemohedges/'))\n",
    "hard_list = sorted(os.listdir('../data/FGADR/3.HardExudates/'))\n",
    "soft_list = sorted(os.listdir('../data/FGADR/4.SoftExudates/'))\n",
    "\n",
    "for micro in micro_list:\n",
    "    if micro == '.DS_Store':\n",
    "        continue\n",
    "    image = cv2.imread('../data/FGADR/1.Microaneurysms/' + micro, cv2.IMREAD_GRAYSCALE)\n",
    "    image = np.where(image > 0, 1, 0)\n",
    "    cv2.imwrite('../data/FGADR/1.Microaneurysms_1/' + micro, image)\n",
    "\n",
    "for hemo in hemo_list:\n",
    "    if hemo == '.DS_Store':\n",
    "        continue\n",
    "    image = cv2.imread('../data/FGADR/2.Hemohedges/' + hemo, cv2.IMREAD_GRAYSCALE)\n",
    "    image = np.where(image > 0, 2, 0)\n",
    "    cv2.imwrite('../data/FGADR/2.Hemohedges_2/' + hemo, image)\n",
    "\n",
    "for hard in hard_list:\n",
    "    if hard == '.DS_Store':\n",
    "        continue\n",
    "    image = cv2.imread('../data/FGADR/3.HardExudates/' + hard, cv2.IMREAD_GRAYSCALE)\n",
    "    image = np.where(image > 0, 3, 0)\n",
    "    cv2.imwrite('../data/FGADR/3.HardExudates_3/' + hard, image)\n",
    "\n",
    "for soft in soft_list:\n",
    "    if soft == '.DS_Store':\n",
    "        continue\n",
    "    image = cv2.imread('../data/FGADR/4.SoftExudates/' + soft, cv2.IMREAD_GRAYSCALE)\n",
    "    image = np.where(image > 0, 4, 0)\n",
    "    cv2.imwrite('../data/FGADR/4.SoftExudates_4/' + soft, image)"
   ]
  },
  {
   "cell_type": "code",
   "execution_count": 50,
   "metadata": {},
   "outputs": [
    {
     "name": "stdout",
     "output_type": "stream",
     "text": [
      "[0 1]\n",
      "[0 2]\n",
      "[0 3]\n",
      "[0 4]\n"
     ]
    }
   ],
   "source": [
    "micro = cv2.imread('../data/FGADR/1.Microaneurysms_1/0000_1.png', cv2.IMREAD_GRAYSCALE)\n",
    "print(np.unique(micro))\n",
    "hemo = cv2.imread('../data/FGADR/2.Hemohedges_2/0000_1.png', cv2.IMREAD_GRAYSCALE)\n",
    "print(np.unique(hemo))\n",
    "hard = cv2.imread('../data/FGADR/3.HardExudates_3/0000_1.png', cv2.IMREAD_GRAYSCALE)\n",
    "print(np.unique(hard))\n",
    "soft = cv2.imread('../data/FGADR/4.SoftExudates_4/0009_1.png', cv2.IMREAD_GRAYSCALE)\n",
    "print(np.unique(soft))"
   ]
  },
  {
   "cell_type": "markdown",
   "metadata": {},
   "source": [
    "## to OneMasks"
   ]
  },
  {
   "cell_type": "code",
   "execution_count": 51,
   "metadata": {},
   "outputs": [],
   "source": [
    "img_list = sorted(os.listdir('../data/FGADR/Original_Images/'))\n",
    "\n",
    "for img in img_list:\n",
    "    if img == '.DS_Store':\n",
    "        continue\n",
    "    img_shape = cv2.imread('../data/FGADR/Original_Images/' + img, cv2.IMREAD_GRAYSCALE).shape\n",
    "    mask = np.zeros(img_shape, dtype=np.uint8)\n",
    "    micro = cv2.imread(f'../data/FGADR/1.Microaneurysms_1/{img}', cv2.IMREAD_GRAYSCALE)\n",
    "    hemo = cv2.imread(f'../data/FGADR/2.Hemohedges_2/{img}', cv2.IMREAD_GRAYSCALE)\n",
    "    hard = cv2.imread(f'../data/FGADR/3.HardExudates_3/{img}', cv2.IMREAD_GRAYSCALE)\n",
    "    soft = cv2.imread(f'../data/FGADR/4.SoftExudates_4/{img}', cv2.IMREAD_GRAYSCALE)\n",
    "\n",
    "    if micro is not None:\n",
    "        micro = micro.astype(np.uint8)\n",
    "        mask = cv2.add(mask, micro)\n",
    "    if hemo is not None:\n",
    "        hemo = hemo.astype(np.uint8)\n",
    "        mask = cv2.add(mask, hemo)\n",
    "    if hard is not None:\n",
    "        hard = hard.astype(np.uint8)\n",
    "        mask = cv2.add(mask, hard)\n",
    "    if soft is not None:\n",
    "        soft = soft.astype(np.uint8)\n",
    "        mask = cv2.add(mask, soft)\n",
    "\n",
    "    cv2.imwrite(f'../data/FGADR/0.OneMasks_gray/{img}', mask)"
   ]
  },
  {
   "cell_type": "code",
   "execution_count": 53,
   "metadata": {},
   "outputs": [
    {
     "name": "stdout",
     "output_type": "stream",
     "text": [
      "[0 1 2 3 4 5]\n",
      "[0 1]\n",
      "[0 1 2 3]\n",
      "[0 1]\n",
      "[0 1 2 4]\n",
      "[0 1 2 4]\n",
      "[0 1 2 4]\n",
      "[0 1 2 3 4]\n",
      "[0 1 2 3]\n",
      "[0 1 2 3 4]\n"
     ]
    }
   ],
   "source": [
    "import random\n",
    "\n",
    "# random하게 10개의 이미지를 선택\n",
    "img_list = random.sample(os.listdir('../data/FGADR/0.OneMasks_gray/'), 10)\n",
    "\n",
    "for name in img_list:\n",
    "    if name == '.DS_Store':\n",
    "        continue\n",
    "    img = cv2.imread(f'../data/FGADR/0.OneMasks_gray/{name}', cv2.IMREAD_GRAYSCALE)\n",
    "    print(np.unique(img))"
   ]
  },
  {
   "cell_type": "code",
   "execution_count": 79,
   "metadata": {},
   "outputs": [
    {
     "name": "stdout",
     "output_type": "stream",
     "text": [
      "1291 90 461\n"
     ]
    }
   ],
   "source": [
    "# train, val, test로 나누기\n",
    "from sklearn.model_selection import train_test_split\n",
    "\n",
    "img_list = os.listdir('../data/FGADR/Original_Images/')\n",
    "train, test = train_test_split(img_list, test_size=0.25, random_state=42)\n",
    "train, val = train_test_split(train, test_size=0.065, random_state=42)\n",
    "print(len(train), len(val), len(test))"
   ]
  },
  {
   "cell_type": "code",
   "execution_count": 82,
   "metadata": {},
   "outputs": [],
   "source": [
    "for name in train:\n",
    "    if name == '.DS_Store':\n",
    "        continue\n",
    "    shutil.move(f'../data/FGADR/Original_Images/{name}', f'../data/FGADR/train/Original_Images/{name}')\n",
    "    shutil.move(f'../data/FGADR/0.OneMasks_gray/{name}', f'../data/FGADR/train/0.OneMasks_gray/{name}')\n",
    "    shutil.move(f'../data/FGADR/1.Microaneurysms_1/{name}', f'../data/FGADR/train/1.Microaneurysms/{name}')\n",
    "    shutil.move(f'../data/FGADR/2.Hemohedges_2/{name}', f'../data/FGADR/train/2.Hemorrhages/{name}')\n",
    "    shutil.move(f'../data/FGADR/3.HardExudates_3/{name}', f'../data/FGADR/train/3.HardExudates/{name}')\n",
    "    shutil.move(f'../data/FGADR/4.SoftExudates_4/{name}', f'../data/FGADR/train/4.SoftExudates/{name}')\n",
    "\n",
    "for name in val:\n",
    "    if name == '.DS_Store':\n",
    "        continue\n",
    "    shutil.move(f'../data/FGADR/Original_Images/{name}', f'../data/FGADR/val/Original_Images/{name}')\n",
    "    shutil.move(f'../data/FGADR/0.OneMasks_gray/{name}', f'../data/FGADR/val/0.OneMasks_gray/{name}')\n",
    "    shutil.move(f'../data/FGADR/1.Microaneurysms_1/{name}', f'../data/FGADR/val/1.Microaneurysms/{name}')\n",
    "    shutil.move(f'../data/FGADR/2.Hemohedges_2/{name}', f'../data/FGADR/val/2.Hemorrhages/{name}')\n",
    "    shutil.move(f'../data/FGADR/3.HardExudates_3/{name}', f'../data/FGADR/val/3.HardExudates/{name}')\n",
    "    shutil.move(f'../data/FGADR/4.SoftExudates_4/{name}', f'../data/FGADR/val/4.SoftExudates/{name}')\n",
    "\n",
    "for name in test:\n",
    "    if name == '.DS_Store':\n",
    "        continue\n",
    "    shutil.move(f'../data/FGADR/Original_Images/{name}', f'../data/FGADR/test/Original_Images/{name}')\n",
    "    shutil.move(f'../data/FGADR/0.OneMasks_gray/{name}', f'../data/FGADR/test/0.OneMasks_gray/{name}')\n",
    "    shutil.move(f'../data/FGADR/1.Microaneurysms_1/{name}', f'../data/FGADR/test/1.Microaneurysms/{name}')\n",
    "    shutil.move(f'../data/FGADR/2.Hemohedges_2/{name}', f'../data/FGADR/test/2.Hemorrhages/{name}')\n",
    "    shutil.move(f'../data/FGADR/3.HardExudates_3/{name}', f'../data/FGADR/test/3.HardExudates/{name}')\n",
    "    shutil.move(f'../data/FGADR/4.SoftExudates_4/{name}', f'../data/FGADR/test/4.SoftExudates/{name}')"
   ]
  },
  {
   "cell_type": "code",
   "execution_count": 83,
   "metadata": {},
   "outputs": [
    {
     "name": "stdout",
     "output_type": "stream",
     "text": [
      "1292\n",
      "90\n",
      "461\n",
      "1292\n",
      "90\n",
      "461\n"
     ]
    }
   ],
   "source": [
    "print(len(os.listdir('../data/FGADR/train/Original_Images/')))\n",
    "print(len(os.listdir('../data/FGADR/val/Original_Images/')))\n",
    "print(len(os.listdir('../data/FGADR/test/Original_Images/')))\n",
    "\n",
    "print(len(os.listdir('../data/FGADR/train/0.OneMasks_gray/')))\n",
    "print(len(os.listdir('../data/FGADR/val/0.OneMasks_gray/')))\n",
    "print(len(os.listdir('../data/FGADR/test/0.OneMasks_gray/')))"
   ]
  },
  {
   "cell_type": "code",
   "execution_count": null,
   "metadata": {},
   "outputs": [],
   "source": []
  }
 ],
 "metadata": {
  "kernelspec": {
   "display_name": "ocr",
   "language": "python",
   "name": "python3"
  },
  "language_info": {
   "codemirror_mode": {
    "name": "ipython",
    "version": 3
   },
   "file_extension": ".py",
   "mimetype": "text/x-python",
   "name": "python",
   "nbconvert_exporter": "python",
   "pygments_lexer": "ipython3",
   "version": "3.10.8"
  }
 },
 "nbformat": 4,
 "nbformat_minor": 2
}
